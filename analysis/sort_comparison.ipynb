{
 "cells": [
  {
   "cell_type": "code",
   "execution_count": 5,
   "id": "5556c854",
   "metadata": {},
   "outputs": [
    {
     "ename": "ImportError",
     "evalue": "cannot import name 'merge_sort' from 'sort_algorithms.merge_sort' (/Users/thoringroth/Desktop/P3-Group-164/sort_algorithms/merge_sort.py)",
     "output_type": "error",
     "traceback": [
      "\u001b[31m---------------------------------------------------------------------------\u001b[39m",
      "\u001b[31mImportError\u001b[39m                               Traceback (most recent call last)",
      "\u001b[36mCell\u001b[39m\u001b[36m \u001b[39m\u001b[32mIn[5]\u001b[39m\u001b[32m, line 9\u001b[39m\n\u001b[32m      6\u001b[39m \u001b[38;5;28;01mimport\u001b[39;00m\u001b[38;5;250m \u001b[39m\u001b[34;01mtime\u001b[39;00m\n\u001b[32m      7\u001b[39m \u001b[38;5;28;01mimport\u001b[39;00m\u001b[38;5;250m \u001b[39m\u001b[34;01mmatplotlib\u001b[39;00m\u001b[34;01m.\u001b[39;00m\u001b[34;01mpyplot\u001b[39;00m\u001b[38;5;250m \u001b[39m\u001b[38;5;28;01mas\u001b[39;00m\u001b[38;5;250m \u001b[39m\u001b[34;01mplt\u001b[39;00m\n\u001b[32m----> \u001b[39m\u001b[32m9\u001b[39m \u001b[38;5;28;01mfrom\u001b[39;00m\u001b[38;5;250m \u001b[39m\u001b[34;01msort_algorithms\u001b[39;00m\u001b[34;01m.\u001b[39;00m\u001b[34;01mmerge_sort\u001b[39;00m\u001b[38;5;250m \u001b[39m\u001b[38;5;28;01mimport\u001b[39;00m merge_sort\n\u001b[32m     10\u001b[39m \u001b[38;5;28;01mfrom\u001b[39;00m\u001b[38;5;250m \u001b[39m\u001b[34;01msort_algorithms\u001b[39;00m\u001b[34;01m.\u001b[39;00m\u001b[34;01mquick_sort\u001b[39;00m\u001b[38;5;250m \u001b[39m\u001b[38;5;28;01mimport\u001b[39;00m quick_sort\n\u001b[32m     12\u001b[39m \u001b[38;5;66;03m# generation of random data points\u001b[39;00m\n",
      "\u001b[31mImportError\u001b[39m: cannot import name 'merge_sort' from 'sort_algorithms.merge_sort' (/Users/thoringroth/Desktop/P3-Group-164/sort_algorithms/merge_sort.py)"
     ]
    }
   ],
   "source": [
    "import sys\n",
    "import os\n",
    "sys.path.append(os.path.abspath('..'))\n",
    "\n",
    "import random\n",
    "import time\n",
    "import matplotlib.pyplot as plt\n",
    "\n",
    "from sort_algorithms.merge_sort import merge_sort\n",
    "from sort_algorithms.quick_sort import quick_sort\n",
    "\n",
    "# generation of random data points\n",
    "data = [random.randint(0, 1000000) for _ in range(100000)]\n",
    "\n",
    "# timing the merge sort algorithm\n",
    "merge_data = data.copy()\n",
    "start = time.time()\n",
    "merge_sort(merge_data)\n",
    "merge_time = time.time() - start\n",
    "\n",
    "# timing the quick sort algorithm\n",
    "quick_data = data.copy()\n",
    "start = time.time()\n",
    "merge_sort(quick_data)\n",
    "quick_time = time.time() - start\n",
    "\n",
    "print(f\"Merge Sort time: {merge_time:.4f} seconds\")\n",
    "print(f\"Quick Sort time: {quick_time:.4f} seconds\")\n",
    "\n",
    "plt.bar(['Merge Sort', 'Quick Sort'], [merge_time, quick_time])\n",
    "plt.ylabel('Time (seconds)')\n",
    "plt.title('Sorting Algorithm Comparison')\n",
    "plt.savefig('../graphs/performance_chart.png')\n",
    "plt.show()"
   ]
  },
  {
   "cell_type": "code",
   "execution_count": null,
   "id": "ec0f4b93",
   "metadata": {},
   "outputs": [],
   "source": []
  }
 ],
 "metadata": {
  "kernelspec": {
   "display_name": "Python 3",
   "language": "python",
   "name": "python3"
  },
  "language_info": {
   "codemirror_mode": {
    "name": "ipython",
    "version": 3
   },
   "file_extension": ".py",
   "mimetype": "text/x-python",
   "name": "python",
   "nbconvert_exporter": "python",
   "pygments_lexer": "ipython3",
   "version": "3.11.1"
  }
 },
 "nbformat": 4,
 "nbformat_minor": 5
}
